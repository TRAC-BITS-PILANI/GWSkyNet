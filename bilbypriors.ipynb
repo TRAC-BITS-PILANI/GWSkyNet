{
  "nbformat": 4,
  "nbformat_minor": 0,
  "metadata": {
    "colab": {
      "name": "bilbypriors.ipynb",
      "provenance": [],
      "collapsed_sections": []
    },
    "kernelspec": {
      "name": "python3",
      "display_name": "Python 3"
    }
  },
  "cells": [
    {
      "cell_type": "markdown",
      "metadata": {
        "id": "IYBbg4lASftL"
      },
      "source": [
        "### Question 1"
      ]
    },
    {
      "cell_type": "markdown",
      "metadata": {
        "id": "A4aSTk6BSisB"
      },
      "source": [
        "Install those libraries not preinstalled in Colab."
      ]
    },
    {
      "cell_type": "code",
      "metadata": {
        "colab": {
          "base_uri": "https://localhost:8080/"
        },
        "id": "RlZMyWGGSdDC",
        "outputId": "0cbcb1d5-3150-45d5-da2f-751dc47ceb21"
      },
      "source": [
        "! pip install -q 'lalsuite==6.66' 'bilby==0.6.3' 'gwpy==1.0.1'"
      ],
      "execution_count": null,
      "outputs": [
        {
          "output_type": "stream",
          "text": [
            "\u001b[K     |████████████████████████████████| 28.5MB 155kB/s \n",
            "\u001b[K     |████████████████████████████████| 1.5MB 31.4MB/s \n",
            "\u001b[K     |████████████████████████████████| 1.4MB 53.6MB/s \n",
            "\u001b[K     |████████████████████████████████| 51kB 5.4MB/s \n",
            "\u001b[K     |████████████████████████████████| 1.6MB 46.5MB/s \n",
            "\u001b[K     |████████████████████████████████| 92kB 8.7MB/s \n",
            "\u001b[K     |████████████████████████████████| 51kB 5.5MB/s \n",
            "\u001b[K     |████████████████████████████████| 61kB 6.7MB/s \n",
            "\u001b[K     |████████████████████████████████| 2.6MB 47.9MB/s \n",
            "\u001b[?25h  Building wheel for bilby (setup.py) ... \u001b[?25l\u001b[?25hdone\n",
            "  Building wheel for ligo-segments (setup.py) ... \u001b[?25l\u001b[?25hdone\n",
            "  Building wheel for lscsoft-glue (setup.py) ... \u001b[?25l\u001b[?25hdone\n"
          ],
          "name": "stdout"
        }
      ]
    },
    {
      "cell_type": "markdown",
      "metadata": {
        "id": "uSOLJaBlTxrM"
      },
      "source": [
        "Import necessary libraries."
      ]
    },
    {
      "cell_type": "code",
      "metadata": {
        "id": "uRW7M8vUTx9X"
      },
      "source": [
        "from gwosc.datasets import event_gps, find_datasets\n",
        "import numpy as np\n",
        "import matplotlib.pyplot as plt\n",
        "from gwpy.timeseries import TimeSeries\n",
        "import bilby\n",
        "from bilby.core.prior import Uniform, Cosine, Sine, Constraint, PowerLaw\n",
        "from bilby.gw.conversion import convert_to_lal_binary_black_hole_parameters, generate_all_bbh_parameters"
      ],
      "execution_count": null,
      "outputs": []
    },
    {
      "cell_type": "markdown",
      "metadata": {
        "id": "gLUHXFzGoLLz"
      },
      "source": [
        "Let's list out all the events of 2019."
      ]
    },
    {
      "cell_type": "code",
      "metadata": {
        "colab": {
          "base_uri": "https://localhost:8080/"
        },
        "id": "THTI-ZkUT5xP",
        "outputId": "b3657e05-33bd-4d13-db63-210f2458ceee"
      },
      "source": [
        "t1 = 1230336018 # 2019-01-01 00:00:00\n",
        "t2 = 1261872017 # 2019-12-31 23:59:59\n",
        "events = find_datasets(type=\"event\", detector='H1', segment=(t1, t2))\n",
        "print(events)"
      ],
      "execution_count": null,
      "outputs": [
        {
          "output_type": "stream",
          "text": [
            "['GW190408_181802-v1', 'GW190412-v1', 'GW190412-v2', 'GW190412-v3', 'GW190413_052954-v1', 'GW190413_134308-v1', 'GW190421_213856-v1', 'GW190426_152155-v1', 'GW190503_185404-v1', 'GW190512_180714-v1', 'GW190513_205428-v1', 'GW190514_065416-v1', 'GW190517_055101-v1', 'GW190519_153544-v1', 'GW190521-v1', 'GW190521-v2', 'GW190521-v3', 'GW190521_074359-v1', 'GW190527_092055-v1', 'GW190602_175927-v1', 'GW190701_203306-v1', 'GW190706_222641-v1', 'GW190707_093326-v1', 'GW190719_215514-v1', 'GW190720_000836-v1', 'GW190727_060333-v1', 'GW190728_064510-v1', 'GW190731_140936-v1', 'GW190803_022701-v1', 'GW190814-v1', 'GW190814-v2', 'GW190828_063405-v1', 'GW190828_065509-v1', 'GW190909_114149-v1', 'GW190915_235702-v1', 'GW190924_021846-v1', 'GW190929_012149-v1', 'GW190930_133541-v1']\n"
          ],
          "name": "stdout"
        }
      ]
    },
    {
      "cell_type": "markdown",
      "metadata": {
        "id": "5XUxmiD6oRww"
      },
      "source": [
        "Let's pick the first event, and define some variables for time duration for which we'll use the signal data."
      ]
    },
    {
      "cell_type": "code",
      "metadata": {
        "id": "G5OfT3yST8nN"
      },
      "source": [
        "gps = event_gps(events[0])\n",
        "ifo_list = bilby.gw.detector.InterferometerList([])\n",
        "t1, t2 = gps - 2, gps + 2\n",
        "psd_t1, psd_t2 = t1 - 128, t1\n",
        "psd_alpha = 0.2"
      ],
      "execution_count": null,
      "outputs": []
    },
    {
      "cell_type": "markdown",
      "metadata": {
        "id": "j-yRFc3_oY5C"
      },
      "source": [
        "For both the Hanford and Livingston detectors, let's fetch open signal and psd data from LIGO archives."
      ]
    },
    {
      "cell_type": "code",
      "metadata": {
        "id": "BOuYGUWUU8WY",
        "colab": {
          "base_uri": "https://localhost:8080/"
        },
        "outputId": "42044185-8864-4b76-b1b3-0e6210c76523"
      },
      "source": [
        "for det in ['H1', 'L1']:\n",
        "    ifo = bilby.gw.detector.get_empty_interferometer(det)\n",
        "    data = TimeSeries.fetch_open_data(det, t1, t2)\n",
        "    ifo.strain_data.set_from_gwpy_timeseries(data)\n",
        "\n",
        "    psd_data = TimeSeries.fetch_open_data(det, psd_t1, psd_t2)\n",
        "    psd = psd_data.psd(\n",
        "        fftlength=4,\n",
        "        overlap=0,\n",
        "        window=(\"tukey\", psd_alpha),\n",
        "        method=\"median\"\n",
        "    )\n",
        "    ifo.power_spectral_density = bilby.gw.detector.PowerSpectralDensity(\n",
        "        frequency_array=psd.frequencies.value, \n",
        "        psd_array=psd.value)\n",
        "    ifo_list.append(ifo)"
      ],
      "execution_count": null,
      "outputs": [
        {
          "output_type": "stream",
          "text": [
            "/usr/local/lib/python3.6/dist-packages/gwpy/types/series.py:926: UserWarning: TimeSeries.crop given end larger than current end, crop will end when the Series actually ends.\n",
            "  % type(self).__name__)\n"
          ],
          "name": "stderr"
        }
      ]
    },
    {
      "cell_type": "markdown",
      "metadata": {
        "id": "xg9IhjWRokn9"
      },
      "source": [
        "Make an outdir for bilby."
      ]
    },
    {
      "cell_type": "code",
      "metadata": {
        "colab": {
          "base_uri": "https://localhost:8080/"
        },
        "id": "STLOF-b0ym9n",
        "outputId": "3750c47e-bdc7-427a-d60f-c16b60e5fb88"
      },
      "source": [
        "bilby.core.utils.check_directory_exists_and_if_not_mkdir('outdir')\n",
        "ifo_list.plot_data(outdir='outdir', label=events[0])"
      ],
      "execution_count": null,
      "outputs": [
        {
          "output_type": "stream",
          "text": [
            "11:54 bilby INFO    : Generating frequency domain strain from given time domain strain.\n",
            "11:54 bilby INFO    : Applying a tukey window with alpha=0.1, roll off=0.2\n",
            "11:54 bilby INFO    : Generating frequency domain strain from given time domain strain.\n",
            "11:54 bilby INFO    : Applying a tukey window with alpha=0.1, roll off=0.2\n"
          ],
          "name": "stderr"
        }
      ]
    },
    {
      "cell_type": "markdown",
      "metadata": {
        "id": "LdOXwjyvooN9"
      },
      "source": [
        "Define some priors, and create a waveform. Then we define a likelihood function and just run the sampler."
      ]
    },
    {
      "cell_type": "code",
      "metadata": {
        "colab": {
          "base_uri": "https://localhost:8080/"
        },
        "id": "1AQLIUeuxa9d",
        "outputId": "0a711209-f377-4857-9802-e52c5e3eddaf"
      },
      "source": [
        "priors = dict()\n",
        "priors['a_1'] = Uniform(minimum=0, maximum=0.99, name='a_1', latex_label='$a_1$', unit=None, boundary='reflective')\n",
        "priors['a_2'] = Uniform(minimum=0, maximum=0.99, name='a_2', latex_label='$a_2$', unit=None, boundary='reflective')\n",
        "priors['chirp_mass'] = Uniform(minimum=25, maximum=31, name='chirp_mass', latex_label='$\\\\mathcal{M}$', unit='$M_{\\\\odot}$', boundary='reflective')\n",
        "priors['dec'] = Cosine(name='dec', latex_label='$\\\\mathrm{DEC}$', unit=None, minimum=-1.5707963267948966, maximum=1.5707963267948966, boundary='reflective')\n",
        "priors['luminosity_distance'] = PowerLaw(alpha=2, minimum=50, maximum=2000, name='luminosity_distance', latex_label='$d_L$', unit='Mpc', boundary=None)\n",
        "priors['mass_1'] = Constraint(minimum=10, maximum=80, name='mass_1', latex_label='$m_1$', unit=None)\n",
        "priors['mass_2'] = Constraint(minimum=10, maximum=80, name='mass_2', latex_label='$m_2$', unit=None)\n",
        "priors['mass_ratio'] = Uniform(minimum=0.125, maximum=1, name='mass_ratio', latex_label='$q$', unit=None, boundary='reflective')\n",
        "priors['phase'] = Uniform(minimum=0, maximum=6.283185307179586, name='phase', latex_label='$\\\\phi$', unit=None, boundary='periodic')\n",
        "priors['phi_12'] = Uniform(minimum=0, maximum=6.283185307179586, name='phi_12', latex_label='$\\\\Delta\\\\phi$', unit=None, boundary='periodic')\n",
        "priors['phi_jl'] = Uniform(minimum=0, maximum=6.283185307179586, name='phi_jl', latex_label='$\\\\phi_{JL}$', unit=None, boundary='periodic')\n",
        "priors['psi'] = Uniform(minimum=0, maximum=3.141592653589793, name='psi', latex_label='$\\\\psi$', unit=None, boundary='periodic')\n",
        "priors['ra'] = Uniform(minimum=0, maximum=6.283185307179586, name='ra', latex_label='$\\\\mathrm{RA}$', unit=None, boundary='periodic')\n",
        "priors['theta_jn'] = Sine(name='theta_jn', latex_label='$\\\\theta_{JN}$', unit=None, minimum=0, maximum=3.141592653589793, boundary='reflective')\n",
        "priors['tilt_1'] = Sine(name='tilt_1', latex_label='$\\\\theta_1$', unit=None, minimum=0, maximum=3.141592653589793, boundary='reflective')\n",
        "priors['tilt_2'] = Sine(name='tilt_2', latex_label='$\\\\theta_2$', unit=None, minimum=0, maximum=3.141592653589793, boundary='reflective')\n",
        "\n",
        "waveform_generator = bilby.gw.WaveformGenerator(\n",
        "    frequency_domain_source_model=bilby.gw.source.lal_binary_black_hole,\n",
        "    parameter_conversion=bilby.gw.conversion.convert_to_lal_binary_black_hole_parameters,\n",
        "    waveform_arguments={'waveform_approximant': 'IMRPhenomPv2',\n",
        "                        'reference_frequency': 50})\n",
        "\n",
        "likelihood = bilby.gw.likelihood.GravitationalWaveTransient(\n",
        "    ifo_list, waveform_generator, priors=priors, time_marginalization=True,\n",
        "    phase_marginalization=True, distance_marginalization=True)\n",
        "\n",
        "result = bilby.run_sampler(\n",
        "    likelihood, priors, sampler='dynesty', outdir='outdir', label=events[0],\n",
        "    nlive=1000, walks=100, n_check_point=10000, check_point_plot=True,\n",
        "    conversion_function=bilby.gw.conversion.generate_all_bbh_parameters)\n",
        "\n",
        "result.plot_corner()"
      ],
      "execution_count": null,
      "outputs": [
        {
          "output_type": "stream",
          "text": [
            "12:55 bilby WARNING : The waveform_generator start_time is not equal to that of the provided interferometers. Overwriting the waveform_generator.\n",
            "12:55 bilby WARNING : Prior not provided for geocent_time, using the BBH default.\n",
            "12:55 bilby INFO    : Loaded distance marginalisation lookup table does not match for distance_array.\n",
            "12:55 bilby INFO    : Building lookup table for distance marginalisation.\n",
            "12:59 bilby INFO    : Running for label 'GW190408_181802-v1', output will be saved to 'outdir'\n",
            "12:59 bilby INFO    : Using LAL version Branch: None;Tag: lalsuite-v6.66;Id: 04a60e3ac9b6ecb285cf96d1137c6a62a3d5cfde;;Builder: Unknown User <>;Repository status: UNCLEAN: Modified working tree\n",
            "12:59 bilby INFO    : Search parameters:\n",
            "12:59 bilby INFO    :   a_1 = Uniform(minimum=0, maximum=0.99, name='a_1', latex_label='$a_1$', unit=None, boundary='reflective')\n",
            "12:59 bilby INFO    :   a_2 = Uniform(minimum=0, maximum=0.99, name='a_2', latex_label='$a_2$', unit=None, boundary='reflective')\n",
            "12:59 bilby INFO    :   chirp_mass = Uniform(minimum=25, maximum=31, name='chirp_mass', latex_label='$\\\\mathcal{M}$', unit='$M_{\\\\odot}$', boundary='reflective')\n",
            "12:59 bilby INFO    :   dec = Cosine(name='dec', latex_label='$\\\\mathrm{DEC}$', unit=None, minimum=-1.5707963267948966, maximum=1.5707963267948966, boundary='reflective')\n",
            "12:59 bilby INFO    :   mass_ratio = Uniform(minimum=0.125, maximum=1, name='mass_ratio', latex_label='$q$', unit=None, boundary='reflective')\n",
            "12:59 bilby INFO    :   phi_12 = Uniform(minimum=0, maximum=6.283185307179586, name='phi_12', latex_label='$\\\\Delta\\\\phi$', unit=None, boundary='periodic')\n",
            "12:59 bilby INFO    :   phi_jl = Uniform(minimum=0, maximum=6.283185307179586, name='phi_jl', latex_label='$\\\\phi_{JL}$', unit=None, boundary='periodic')\n",
            "12:59 bilby INFO    :   psi = Uniform(minimum=0, maximum=3.141592653589793, name='psi', latex_label='$\\\\psi$', unit=None, boundary='periodic')\n",
            "12:59 bilby INFO    :   ra = Uniform(minimum=0, maximum=6.283185307179586, name='ra', latex_label='$\\\\mathrm{RA}$', unit=None, boundary='periodic')\n",
            "12:59 bilby INFO    :   theta_jn = Sine(name='theta_jn', latex_label='$\\\\theta_{JN}$', unit=None, minimum=0, maximum=3.141592653589793, boundary='reflective')\n",
            "12:59 bilby INFO    :   tilt_1 = Sine(name='tilt_1', latex_label='$\\\\theta_1$', unit=None, minimum=0, maximum=3.141592653589793, boundary='reflective')\n",
            "12:59 bilby INFO    :   tilt_2 = Sine(name='tilt_2', latex_label='$\\\\theta_2$', unit=None, minimum=0, maximum=3.141592653589793, boundary='reflective')\n",
            "12:59 bilby INFO    :   time_jitter = Uniform(minimum=-0.000244140625, maximum=0.000244140625, name=None, latex_label=None, unit=None, boundary='periodic')\n",
            "12:59 bilby INFO    :   mass_1 = Constraint(minimum=10, maximum=80, name='mass_1', latex_label='$m_1$', unit=None)\n",
            "12:59 bilby INFO    :   mass_2 = Constraint(minimum=10, maximum=80, name='mass_2', latex_label='$m_2$', unit=None)\n",
            "12:59 bilby INFO    :   luminosity_distance = 50.0\n",
            "12:59 bilby INFO    :   phase = 0.0\n",
            "12:59 bilby INFO    :   geocent_time = 1238782698.2998047\n",
            "12:59 bilby INFO    : Single likelihood evaluation took 1.089e-02 s\n"
          ],
          "name": "stderr"
        },
        {
          "output_type": "stream",
          "text": [
            "\r0it [00:00, ?it/s]"
          ],
          "name": "stdout"
        },
        {
          "output_type": "stream",
          "text": [
            "12:59 bilby INFO    : Using sampler Dynesty with kwargs {'bound': 'multi', 'sample': 'rwalk', 'verbose': True, 'periodic': None, 'reflective': None, 'check_point_delta_t': 600, 'nlive': 1000, 'first_update': None, 'walks': 100, 'npdim': None, 'rstate': None, 'queue_size': None, 'pool': None, 'use_pool': None, 'live_points': None, 'logl_args': None, 'logl_kwargs': None, 'ptform_args': None, 'ptform_kwargs': None, 'enlarge': 1.5, 'bootstrap': None, 'vol_dec': 0.5, 'vol_check': 8.0, 'facc': 0.2, 'slices': 5, 'update_interval': 600, 'print_func': <bound method Dynesty._print_func of <bilby.core.sampler.dynesty.Dynesty object at 0x7f00dbba5748>>, 'dlogz': 0.1, 'maxiter': None, 'maxcall': None, 'logl_max': inf, 'add_live': True, 'print_progress': True, 'save_bounds': False, 'n_effective': None, 'maxmcmc': 5000, 'nact': 5}\n",
            "12:59 bilby INFO    : Checkpoint every n_check_point = 10000\n",
            "12:59 bilby INFO    : Using dynesty version 1.0.1\n",
            "12:59 bilby INFO    : Using the bilby-implemented rwalk sample method with ACT estimated walks\n"
          ],
          "name": "stderr"
        },
        {
          "output_type": "stream",
          "text": [
            "3027it [03:47,  3.49it/s, bound:0 nc:19 ncall:21004 eff:14.4% logz-ratio=40.90+/-0.10 dlogz:46.023>0.10]"
          ],
          "name": "stdout"
        },
        {
          "output_type": "stream",
          "text": [
            "13:03 bilby INFO    : Writing checkpoint file outdir/GW190408_181802-v1_resume.pickle\n"
          ],
          "name": "stderr"
        },
        {
          "output_type": "stream",
          "text": [
            "\n",
            "3637it [09:05,  5.33s/it, bound:15 nc:497 ncall:51098 eff:7.1% logz-ratio=48.78+/-0.10 dlogz:37.539>0.10]"
          ],
          "name": "stdout"
        },
        {
          "output_type": "stream",
          "text": [
            "13:08 bilby INFO    : Writing checkpoint file outdir/GW190408_181802-v1_resume.pickle\n"
          ],
          "name": "stderr"
        },
        {
          "output_type": "stream",
          "text": [
            "\n",
            "3717it [16:14,  5.36s/it, bound:55 nc:507 ncall:91216 eff:4.1% logz-ratio=49.83+/-0.10 dlogz:36.578>0.10]"
          ],
          "name": "stdout"
        },
        {
          "output_type": "stream",
          "text": [
            "13:15 bilby INFO    : Writing checkpoint file outdir/GW190408_181802-v1_resume.pickle\n"
          ],
          "name": "stderr"
        },
        {
          "output_type": "stream",
          "text": [
            "\n",
            "3818it [25:16,  5.33s/it, bound:106 nc:501 ncall:141554 eff:2.7% logz-ratio=51.16+/-0.10 dlogz:35.150>0.10]"
          ],
          "name": "stdout"
        },
        {
          "output_type": "stream",
          "text": [
            "13:24 bilby INFO    : Writing checkpoint file outdir/GW190408_181802-v1_resume.pickle\n"
          ],
          "name": "stderr"
        },
        {
          "output_type": "stream",
          "text": [
            "\n",
            "3938it [35:58,  5.29s/it, bound:166 nc:494 ncall:201580 eff:2.0% logz-ratio=52.73+/-0.10 dlogz:33.454>0.10]"
          ],
          "name": "stdout"
        },
        {
          "output_type": "stream",
          "text": [
            "13:35 bilby INFO    : Writing checkpoint file outdir/GW190408_181802-v1_resume.pickle\n"
          ],
          "name": "stderr"
        },
        {
          "output_type": "stream",
          "text": [
            "\n",
            "4079it [48:26,  5.21s/it, bound:236 nc:494 ncall:271951 eff:1.5% logz-ratio=54.33+/-0.10 dlogz:31.711>0.10]"
          ],
          "name": "stdout"
        },
        {
          "output_type": "stream",
          "text": [
            "13:48 bilby INFO    : Writing checkpoint file outdir/GW190408_181802-v1_resume.pickle\n"
          ],
          "name": "stderr"
        },
        {
          "output_type": "stream",
          "text": [
            "\n",
            "4239it [1:02:37,  5.23s/it, bound:316 nc:498 ncall:352023 eff:1.2% logz-ratio=55.78+/-0.10 dlogz:30.100>0.10]"
          ],
          "name": "stdout"
        },
        {
          "output_type": "stream",
          "text": [
            "14:02 bilby INFO    : Writing checkpoint file outdir/GW190408_181802-v1_resume.pickle\n"
          ],
          "name": "stderr"
        },
        {
          "output_type": "stream",
          "text": [
            "\n",
            "4420it [1:18:39,  5.38s/it, bound:407 nc:502 ncall:442425 eff:1.0% logz-ratio=57.40+/-0.10 dlogz:28.300>0.10]"
          ],
          "name": "stdout"
        },
        {
          "output_type": "stream",
          "text": [
            "14:18 bilby INFO    : Writing checkpoint file outdir/GW190408_181802-v1_resume.pickle\n"
          ],
          "name": "stderr"
        },
        {
          "output_type": "stream",
          "text": [
            "\n",
            "4621it [1:36:32,  5.29s/it, bound:507 nc:495 ncall:542715 eff:0.9% logz-ratio=59.08+/-0.11 dlogz:26.414>0.10]"
          ],
          "name": "stdout"
        },
        {
          "output_type": "stream",
          "text": [
            "14:36 bilby INFO    : Writing checkpoint file outdir/GW190408_181802-v1_resume.pickle\n"
          ],
          "name": "stderr"
        },
        {
          "output_type": "stream",
          "text": [
            "\n",
            "4841it [1:56:04,  5.26s/it, bound:617 nc:494 ncall:652718 eff:0.7% logz-ratio=60.63+/-0.11 dlogz:24.647>0.10]"
          ],
          "name": "stdout"
        },
        {
          "output_type": "stream",
          "text": [
            "14:55 bilby INFO    : Writing checkpoint file outdir/GW190408_181802-v1_resume.pickle\n"
          ],
          "name": "stderr"
        },
        {
          "output_type": "stream",
          "text": [
            "\n",
            "5081it [2:17:24,  5.45s/it, bound:738 nc:509 ncall:772883 eff:0.7% logz-ratio=62.11+/-0.11 dlogz:22.925>0.10]"
          ],
          "name": "stdout"
        },
        {
          "output_type": "stream",
          "text": [
            "15:17 bilby INFO    : Writing checkpoint file outdir/GW190408_181802-v1_resume.pickle\n"
          ],
          "name": "stderr"
        },
        {
          "output_type": "stream",
          "text": [
            "\n",
            "5342it [2:40:37,  5.30s/it, bound:868 nc:497 ncall:903344 eff:0.6% logz-ratio=63.58+/-0.11 dlogz:21.193>0.10]"
          ],
          "name": "stdout"
        },
        {
          "output_type": "stream",
          "text": [
            "15:40 bilby INFO    : Writing checkpoint file outdir/GW190408_181802-v1_resume.pickle\n"
          ],
          "name": "stderr"
        },
        {
          "output_type": "stream",
          "text": [
            "\n",
            "5622it [3:05:30,  5.32s/it, bound:1009 nc:498 ncall:1043542 eff:0.5% logz-ratio=65.02+/-0.11 dlogz:19.473>0.10]"
          ],
          "name": "stdout"
        },
        {
          "output_type": "stream",
          "text": [
            "16:05 bilby INFO    : Writing checkpoint file outdir/GW190408_181802-v1_resume.pickle\n"
          ],
          "name": "stderr"
        },
        {
          "output_type": "stream",
          "text": [
            "\n",
            "5921it [3:32:06,  5.33s/it, bound:1159 nc:503 ncall:1193549 eff:0.5% logz-ratio=66.37+/-0.11 dlogz:17.824>0.10]"
          ],
          "name": "stdout"
        },
        {
          "output_type": "stream",
          "text": [
            "16:31 bilby INFO    : Writing checkpoint file outdir/GW190408_181802-v1_resume.pickle\n"
          ],
          "name": "stderr"
        },
        {
          "output_type": "stream",
          "text": [
            "\n",
            "6241it [4:00:41,  5.34s/it, bound:1320 nc:500 ncall:1353807 eff:0.5% logz-ratio=67.61+/-0.11 dlogz:17.146>0.10]"
          ],
          "name": "stdout"
        },
        {
          "output_type": "stream",
          "text": [
            "17:00 bilby INFO    : Writing checkpoint file outdir/GW190408_181802-v1_resume.pickle\n"
          ],
          "name": "stderr"
        },
        {
          "output_type": "stream",
          "text": [
            "\n",
            "6581it [4:31:12,  5.36s/it, bound:1490 nc:502 ncall:1523959 eff:0.4% logz-ratio=68.82+/-0.11 dlogz:16.101>0.10]"
          ],
          "name": "stdout"
        },
        {
          "output_type": "stream",
          "text": [
            "17:30 bilby INFO    : Writing checkpoint file outdir/GW190408_181802-v1_resume.pickle\n"
          ],
          "name": "stderr"
        },
        {
          "output_type": "stream",
          "text": [
            "\n",
            "6941it [5:03:20,  5.38s/it, bound:1670 nc:503 ncall:1704024 eff:0.4% logz-ratio=69.96+/-0.12 dlogz:14.599>0.10]"
          ],
          "name": "stdout"
        },
        {
          "output_type": "stream",
          "text": [
            "18:02 bilby INFO    : Writing checkpoint file outdir/GW190408_181802-v1_resume.pickle\n"
          ],
          "name": "stderr"
        },
        {
          "output_type": "stream",
          "text": [
            "\n",
            "7321it [5:37:41,  5.33s/it, bound:1860 nc:494 ncall:1894184 eff:0.4% logz-ratio=71.08+/-0.12 dlogz:13.099>0.10]"
          ],
          "name": "stdout"
        },
        {
          "output_type": "stream",
          "text": [
            "18:37 bilby INFO    : Writing checkpoint file outdir/GW190408_181802-v1_resume.pickle\n"
          ],
          "name": "stderr"
        },
        {
          "output_type": "stream",
          "text": [
            "\n",
            "7720it [6:13:34,  5.48s/it, bound:2060 nc:498 ncall:2094275 eff:0.4% logz-ratio=72.19+/-0.12 dlogz:11.589>0.10]"
          ],
          "name": "stdout"
        },
        {
          "output_type": "stream",
          "text": [
            "19:13 bilby INFO    : Writing checkpoint file outdir/GW190408_181802-v1_resume.pickle\n"
          ],
          "name": "stderr"
        },
        {
          "output_type": "stream",
          "text": [
            "\n",
            "8024it [6:41:08,  5.36s/it, bound:2213 nc:498 ncall:2246675 eff:0.4% logz-ratio=72.94+/-0.12 dlogz:10.539>0.10]"
          ],
          "name": "stdout"
        }
      ]
    },
    {
      "cell_type": "code",
      "metadata": {
        "id": "WN7R6YFux2GR"
      },
      "source": [
        ""
      ],
      "execution_count": null,
      "outputs": []
    }
  ]
}